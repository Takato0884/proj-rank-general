{
 "cells": [
  {
   "cell_type": "code",
   "execution_count": 1,
   "metadata": {},
   "outputs": [],
   "source": [
    "import pandas as pd\n",
    "import numpy as np\n",
    "import pickle\n",
    "import torch\n",
    "import torch.nn as nn\n",
    "import argparse\n",
    "from tqdm import tqdm\n",
    "import sys\n",
    "from sklearn.metrics import accuracy_score\n",
    "import random\n",
    "import itertools"
   ]
  },
  {
   "cell_type": "code",
   "execution_count": 2,
   "metadata": {},
   "outputs": [],
   "source": [
    "with open('c:\\\\Users\\\\hayas\\\\proj-rank-general\\\\git\\\\data\\\\features_dict_seq.pkl', 'rb') as p:\n",
    "    features_dict = pickle.load(p)"
   ]
  },
  {
   "cell_type": "code",
   "execution_count": 3,
   "metadata": {},
   "outputs": [
    {
     "name": "stdout",
     "output_type": "stream",
     "text": [
      "['00', '01', '02', '03', '04', '05', '06', '07', '08', '09', '10', '11', '12', '13', '14', '15', '16', '17', '18', '19', '20', '21', '22', '23', '24', '25', '26', '27', '28', '29']\n",
      "['0', '1', '2', '3', '4']\n"
     ]
    }
   ],
   "source": [
    "participant_id = []\n",
    "for i in range(30):\n",
    "    if len(str(i)) == 1:\n",
    "        id = \"0\" + str(i)\n",
    "    else:\n",
    "        id = str(i)\n",
    "    participant_id.append(id)\n",
    "\n",
    "contents_id = []\n",
    "for i in range(5):\n",
    "    contents_id.append(str(i))\n",
    "\n",
    "print(participant_id)\n",
    "print(contents_id)"
   ]
  },
  {
   "cell_type": "code",
   "execution_count": 4,
   "metadata": {},
   "outputs": [],
   "source": [
    "lopocv_dict = {}\n",
    "for i in participant_id:\n",
    "    lopocv_dict[i] = {\"train_in_test\": [], \"test\": []}\n",
    "\n",
    "for test in participant_id:\n",
    "    for j in features_dict.keys():\n",
    "        if test == j[:2]:\n",
    "            lopocv_dict[str(test)][\"test\"].append(j)\n",
    "        else:\n",
    "            lopocv_dict[str(test)][\"train_in_test\"].append(j)"
   ]
  },
  {
   "cell_type": "code",
   "execution_count": 5,
   "metadata": {},
   "outputs": [
    {
     "name": "stdout",
     "output_type": "stream",
     "text": [
      "['06_0', '06_1', '06_2', '06_3', '06_4']\n",
      "['00_0', '00_1', '00_2', '00_3', '00_4', '01_0', '01_1', '01_2', '01_3', '01_4', '02_0', '02_1', '02_2', '02_3', '02_4', '03_0', '03_1', '03_2', '03_3', '03_4', '04_0', '04_1', '04_2', '04_3', '04_4', '05_0', '05_1', '05_2', '05_3', '05_4', '07_0', '07_1', '07_2', '07_3', '07_4', '08_0', '08_1', '08_2', '08_3', '08_4', '09_0', '09_1', '09_2', '09_3', '09_4', '10_0', '10_1', '10_2', '10_3', '10_4', '11_0', '11_1', '11_2', '11_3', '11_4', '12_0', '12_1', '12_2', '12_3', '12_4', '13_0', '13_1', '13_2', '13_3', '13_4', '14_0', '14_1', '14_2', '14_3', '14_4', '15_0', '15_1', '15_2', '15_3', '15_4', '16_0', '16_1', '16_2', '16_3', '16_4', '17_0', '17_1', '17_2', '17_3', '17_4', '18_0', '18_1', '18_2', '18_3', '18_4', '19_0', '19_1', '19_2', '19_3', '19_4', '20_0', '20_1', '20_2', '20_3', '20_4', '21_0', '21_1', '21_2', '21_3', '21_4', '22_0', '22_1', '22_2', '22_3', '22_4', '23_0', '23_1', '23_2', '23_3', '23_4', '24_0', '24_1', '24_2', '24_3', '24_4', '25_0', '25_1', '25_2', '25_3', '25_4', '26_0', '26_1', '26_2', '26_3', '26_4', '27_0', '27_1', '27_2', '27_3', '27_4', '28_0', '28_1', '28_2', '28_3', '28_4', '29_0', '29_1', '29_2', '29_3', '29_4']\n"
     ]
    }
   ],
   "source": [
    "print(lopocv_dict[\"06\"][\"test\"])\n",
    "print(lopocv_dict[\"06\"][\"train_in_test\"])"
   ]
  },
  {
   "cell_type": "code",
   "execution_count": 6,
   "metadata": {},
   "outputs": [],
   "source": [
    "with open('c:\\\\Users\\\\hayas\\\\proj-rank-general\\\\git\\\\data\\\\lopocv_dict_reg.pkl', 'wb') as f:\n",
    "    pickle.dump(lopocv_dict, f)"
   ]
  }
 ],
 "metadata": {
  "kernelspec": {
   "display_name": "pj-rank-rapport",
   "language": "python",
   "name": "python3"
  },
  "language_info": {
   "codemirror_mode": {
    "name": "ipython",
    "version": 3
   },
   "file_extension": ".py",
   "mimetype": "text/x-python",
   "name": "python",
   "nbconvert_exporter": "python",
   "pygments_lexer": "ipython3",
   "version": "3.11.4"
  }
 },
 "nbformat": 4,
 "nbformat_minor": 2
}
