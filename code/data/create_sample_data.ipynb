{
 "cells": [
  {
   "cell_type": "code",
   "execution_count": 1,
   "metadata": {},
   "outputs": [],
   "source": [
    "import pandas as pd\n",
    "import numpy as np\n",
    "import pickle\n",
    "import torch\n",
    "import torch.nn as nn\n",
    "import argparse\n",
    "from tqdm import tqdm\n",
    "import sys\n",
    "from sklearn.metrics import accuracy_score\n",
    "import random"
   ]
  },
  {
   "cell_type": "code",
   "execution_count": 2,
   "metadata": {},
   "outputs": [],
   "source": [
    "with open('c:\\\\Users\\\\hayas\\\\proj-rank-rapport\\\\dataset\\\\features_dict_friend.pkl', 'rb') as p:\n",
    "    features_dict = pickle.load(p)"
   ]
  },
  {
   "cell_type": "code",
   "execution_count": 3,
   "metadata": {},
   "outputs": [
    {
     "name": "stdout",
     "output_type": "stream",
     "text": [
      "['00', '01', '02', '03', '04', '05', '06', '07', '08', '09', '10', '11', '12', '13', '14', '15', '16', '17', '18', '19', '20', '21', '22', '23', '24', '25', '26', '27', '28', '29']\n",
      "['0', '1', '2', '3', '4']\n"
     ]
    }
   ],
   "source": [
    "participant_id = []\n",
    "for i in range(30):\n",
    "    if len(str(i)) == 1:\n",
    "        id = \"0\" + str(i)\n",
    "    else:\n",
    "        id = str(i)\n",
    "    participant_id.append(id)\n",
    "\n",
    "contents_id = []\n",
    "for i in range(5):\n",
    "    contents_id.append(str(i))\n",
    "\n",
    "print(participant_id)\n",
    "print(contents_id)"
   ]
  },
  {
   "cell_type": "code",
   "execution_count": 4,
   "metadata": {},
   "outputs": [
    {
     "data": {
      "text/html": [
       "<div>\n",
       "<style scoped>\n",
       "    .dataframe tbody tr th:only-of-type {\n",
       "        vertical-align: middle;\n",
       "    }\n",
       "\n",
       "    .dataframe tbody tr th {\n",
       "        vertical-align: top;\n",
       "    }\n",
       "\n",
       "    .dataframe thead th {\n",
       "        text-align: right;\n",
       "    }\n",
       "</style>\n",
       "<table border=\"1\" class=\"dataframe\">\n",
       "  <thead>\n",
       "    <tr style=\"text-align: right;\">\n",
       "      <th></th>\n",
       "      <th>MedInc</th>\n",
       "      <th>HouseAge</th>\n",
       "      <th>AveRooms</th>\n",
       "      <th>AveBedrms</th>\n",
       "      <th>Population</th>\n",
       "      <th>AveOccup</th>\n",
       "      <th>Latitude</th>\n",
       "      <th>Longitude</th>\n",
       "      <th>HousingPrices</th>\n",
       "    </tr>\n",
       "  </thead>\n",
       "  <tbody>\n",
       "    <tr>\n",
       "      <th>0</th>\n",
       "      <td>8.3252</td>\n",
       "      <td>41.0</td>\n",
       "      <td>6.984127</td>\n",
       "      <td>1.023810</td>\n",
       "      <td>322.0</td>\n",
       "      <td>2.555556</td>\n",
       "      <td>37.88</td>\n",
       "      <td>-122.23</td>\n",
       "      <td>4.526</td>\n",
       "    </tr>\n",
       "    <tr>\n",
       "      <th>1</th>\n",
       "      <td>8.3014</td>\n",
       "      <td>21.0</td>\n",
       "      <td>6.238137</td>\n",
       "      <td>0.971880</td>\n",
       "      <td>2401.0</td>\n",
       "      <td>2.109842</td>\n",
       "      <td>37.86</td>\n",
       "      <td>-122.22</td>\n",
       "      <td>3.585</td>\n",
       "    </tr>\n",
       "    <tr>\n",
       "      <th>2</th>\n",
       "      <td>7.2574</td>\n",
       "      <td>52.0</td>\n",
       "      <td>8.288136</td>\n",
       "      <td>1.073446</td>\n",
       "      <td>496.0</td>\n",
       "      <td>2.802260</td>\n",
       "      <td>37.85</td>\n",
       "      <td>-122.24</td>\n",
       "      <td>3.521</td>\n",
       "    </tr>\n",
       "    <tr>\n",
       "      <th>3</th>\n",
       "      <td>5.6431</td>\n",
       "      <td>52.0</td>\n",
       "      <td>5.817352</td>\n",
       "      <td>1.073059</td>\n",
       "      <td>558.0</td>\n",
       "      <td>2.547945</td>\n",
       "      <td>37.85</td>\n",
       "      <td>-122.25</td>\n",
       "      <td>3.413</td>\n",
       "    </tr>\n",
       "    <tr>\n",
       "      <th>4</th>\n",
       "      <td>3.8462</td>\n",
       "      <td>52.0</td>\n",
       "      <td>6.281853</td>\n",
       "      <td>1.081081</td>\n",
       "      <td>565.0</td>\n",
       "      <td>2.181467</td>\n",
       "      <td>37.85</td>\n",
       "      <td>-122.25</td>\n",
       "      <td>3.422</td>\n",
       "    </tr>\n",
       "  </tbody>\n",
       "</table>\n",
       "</div>"
      ],
      "text/plain": [
       "   MedInc  HouseAge  AveRooms  AveBedrms  Population  AveOccup  Latitude  \\\n",
       "0  8.3252      41.0  6.984127   1.023810       322.0  2.555556     37.88   \n",
       "1  8.3014      21.0  6.238137   0.971880      2401.0  2.109842     37.86   \n",
       "2  7.2574      52.0  8.288136   1.073446       496.0  2.802260     37.85   \n",
       "3  5.6431      52.0  5.817352   1.073059       558.0  2.547945     37.85   \n",
       "4  3.8462      52.0  6.281853   1.081081       565.0  2.181467     37.85   \n",
       "\n",
       "   Longitude  HousingPrices  \n",
       "0    -122.23          4.526  \n",
       "1    -122.22          3.585  \n",
       "2    -122.24          3.521  \n",
       "3    -122.25          3.413  \n",
       "4    -122.25          3.422  "
      ]
     },
     "metadata": {},
     "output_type": "display_data"
    }
   ],
   "source": [
    "from sklearn.datasets import fetch_california_housing\n",
    "california_housing_data = fetch_california_housing()\n",
    "exp_data = pd.DataFrame(california_housing_data.data, columns=california_housing_data.feature_names)\n",
    "tar_data = pd.DataFrame(california_housing_data.target, columns=['HousingPrices'])\n",
    "data = pd.concat([exp_data, tar_data], axis=1)\n",
    "exp_data_list = exp_data.values.tolist()\n",
    "tar_data_list = tar_data.values.tolist()\n",
    "data_list = data.values.tolist()\n",
    "display(data.head())"
   ]
  },
  {
   "cell_type": "code",
   "execution_count": 5,
   "metadata": {},
   "outputs": [
    {
     "name": "stdout",
     "output_type": "stream",
     "text": [
      "{'features': [8.3252, 41.0, 6.984126984126984, 1.0238095238095237, 322.0, 2.5555555555555554, 37.88, -122.23], 'score': 4.526}\n"
     ]
    }
   ],
   "source": [
    "k = 0\n",
    "features_dict = {}\n",
    "for p in participant_id:\n",
    "    for c in contents_id:\n",
    "        key_id = p + \"_\" + c\n",
    "        features_dict[key_id] = {\"features\": data_list[k][:-1], \"score\": data_list[k][-1]}\n",
    "        k = k + 1\n",
    "print(features_dict[\"00_0\"])\n",
    "with open('c:\\\\Users\\\\hayas\\\\proj-rank-general\\\\git\\\\data\\\\features_dict_nonseq.pkl', mode=\"wb\") as f:\n",
    "      pickle.dump(features_dict, f)"
   ]
  },
  {
   "cell_type": "code",
   "execution_count": 6,
   "metadata": {},
   "outputs": [
    {
     "name": "stdout",
     "output_type": "stream",
     "text": [
      "{'features': [[8.3252, 41.0, 6.984126984126984, 1.0238095238095237, 322.0, 2.5555555555555554, 37.88, -122.23], [8.3014, 21.0, 6.238137082601054, 0.9718804920913884, 2401.0, 2.109841827768014, 37.86, -122.22], [7.2574, 52.0, 8.288135593220339, 1.073446327683616, 496.0, 2.8022598870056497, 37.85, -122.24], [5.6431, 52.0, 5.8173515981735155, 1.0730593607305936, 558.0, 2.547945205479452, 37.85, -122.25], [3.8462, 52.0, 6.281853281853282, 1.0810810810810811, 565.0, 2.1814671814671813, 37.85, -122.25], [4.0368, 52.0, 4.761658031088083, 1.1036269430051813, 413.0, 2.139896373056995, 37.85, -122.25], [3.6591, 52.0, 4.9319066147859925, 0.9513618677042801, 1094.0, 2.1284046692607004, 37.84, -122.25], [3.12, 52.0, 4.797527047913447, 1.061823802163833, 1157.0, 1.7882534775888717, 37.84, -122.25], [2.0804, 42.0, 4.294117647058823, 1.1176470588235294, 1206.0, 2.026890756302521, 37.84, -122.26], [3.6912, 52.0, 4.970588235294118, 0.9901960784313726, 1551.0, 2.172268907563025, 37.84, -122.25], [3.2031, 52.0, 5.477611940298507, 1.0796019900497513, 910.0, 2.263681592039801, 37.85, -122.26], [3.2705, 52.0, 4.772479564032698, 1.0245231607629428, 1504.0, 2.0490463215258856, 37.85, -122.26], [3.075, 52.0, 5.322649572649572, 1.0128205128205128, 1098.0, 2.3461538461538463, 37.85, -122.26], [2.6736, 52.0, 4.0, 1.0977011494252873, 345.0, 1.9827586206896552, 37.84, -122.26], [1.9167, 52.0, 4.262903225806451, 1.0096774193548388, 1212.0, 1.9548387096774194, 37.85, -122.26], [2.125, 50.0, 4.242424242424242, 1.071969696969697, 697.0, 2.640151515151515, 37.85, -122.26], [2.775, 52.0, 5.9395770392749245, 1.0483383685800605, 793.0, 2.395770392749245, 37.85, -122.27], [2.1202, 52.0, 4.052805280528053, 0.966996699669967, 648.0, 2.1386138613861387, 37.85, -122.27], [1.9911, 50.0, 5.343675417661098, 1.0859188544152745, 990.0, 2.3627684964200477, 37.84, -122.26], [2.6033, 52.0, 5.465454545454546, 1.0836363636363637, 690.0, 2.5090909090909093, 37.84, -122.27], [1.3578, 40.0, 4.524096385542169, 1.108433734939759, 409.0, 2.463855421686747, 37.85, -122.27], [1.7135, 42.0, 4.478142076502732, 1.0027322404371584, 929.0, 2.5382513661202184, 37.85, -122.27], [1.725, 52.0, 5.096234309623431, 1.1317991631799162, 1015.0, 2.1234309623430963, 37.84, -122.27], [2.1806, 52.0, 5.193846153846154, 1.0369230769230768, 853.0, 2.624615384615385, 37.84, -122.27], [2.6, 52.0, 5.270142180094787, 1.0355450236966826, 1006.0, 2.3838862559241707, 37.84, -122.27], [2.4038, 41.0, 4.495798319327731, 1.0336134453781514, 317.0, 2.6638655462184873, 37.85, -122.28], [2.4597, 49.0, 4.7280334728033475, 1.0209205020920502, 607.0, 2.5397489539748954, 37.85, -122.28], [1.808, 52.0, 4.7808564231738035, 1.0604534005037782, 1102.0, 2.7758186397984885, 37.85, -122.28], [1.6424, 50.0, 4.40169133192389, 1.040169133192389, 1131.0, 2.3911205073995774, 37.84, -122.28], [1.6875, 52.0, 4.703225806451613, 1.032258064516129, 395.0, 2.5483870967741935, 37.84, -122.28], [1.9274, 49.0, 5.068783068783069, 1.1825396825396826, 863.0, 2.2830687830687832, 37.84, -122.28], [1.9615, 52.0, 4.882086167800454, 1.090702947845805, 1168.0, 2.6485260770975056, 37.84, -122.28], [1.7969, 48.0, 5.737313432835821, 1.2208955223880598, 1026.0, 3.062686567164179, 37.84, -122.27]], 'score': 4.526}\n"
     ]
    }
   ],
   "source": [
    "k = 0\n",
    "features_dict = {}\n",
    "for p in participant_id:\n",
    "    for c in contents_id:\n",
    "        key_id = p + \"_\" + c\n",
    "        l = random.randint(30, 50)\n",
    "        features_dict[key_id] = {\"features\": exp_data_list[k: k + l], \"score\": tar_data_list[k][-1]}\n",
    "        k = k + l\n",
    "print(features_dict[\"00_0\"])\n",
    "with open('c:\\\\Users\\\\hayas\\\\proj-rank-general\\\\git\\\\data\\\\features_dict_seq.pkl', mode=\"wb\") as f:\n",
    "      pickle.dump(features_dict, f)"
   ]
  }
 ],
 "metadata": {
  "kernelspec": {
   "display_name": "pj-rank-rapport",
   "language": "python",
   "name": "python3"
  },
  "language_info": {
   "codemirror_mode": {
    "name": "ipython",
    "version": 3
   },
   "file_extension": ".py",
   "mimetype": "text/x-python",
   "name": "python",
   "nbconvert_exporter": "python",
   "pygments_lexer": "ipython3",
   "version": "3.11.4"
  }
 },
 "nbformat": 4,
 "nbformat_minor": 2
}
